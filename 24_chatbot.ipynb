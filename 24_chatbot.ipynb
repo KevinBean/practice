{
 "cells": [
  {
   "cell_type": "code",
   "execution_count": 1,
   "metadata": {
    "collapsed": false
   },
   "outputs": [
    {
     "name": "stdout",
     "output_type": "stream",
     "text": [
      "Loading std-startup.xml... done (0.00 seconds)\n",
      "Loading standard/std-65percent.aiml... done (0.04 seconds)\n",
      "Loading standard/std-atomic.aiml... done (0.24 seconds)\n",
      "Loading standard/std-botmaster.aiml... done (0.01 seconds)\n",
      "Loading standard/std-brain.aiml... done (0.27 seconds)\n",
      "Loading standard/std-connect.aiml... done (0.00 seconds)\n",
      "Loading standard/std-dictionary.aiml... done (0.09 seconds)\n",
      "Loading standard/std-disconnect.aiml... done (0.00 seconds)\n",
      "Loading standard/std-dont.aiml... done (0.05 seconds)\n",
      "Loading standard/std-errors.aiml... done (0.00 seconds)\n",
      "Loading standard/std-gender.aiml... done (0.01 seconds)\n",
      "Loading standard/std-geography.aiml... done (0.03 seconds)\n",
      "Loading standard/std-german.aiml... done (0.12 seconds)\n",
      "Loading standard/std-gossip.aiml... done (0.01 seconds)\n",
      "Loading standard/std-hello.aiml... done (0.01 seconds)\n",
      "Loading standard/std-inactivity.aiml... done (0.00 seconds)\n",
      "Loading standard/std-inventions.aiml... done (0.00 seconds)\n",
      "Loading standard/std-knowledge.aiml... done (0.05 seconds)\n",
      "Loading standard/std-lizards.aiml... done (0.00 seconds)\n",
      "Loading standard/std-login.aiml... done (0.00 seconds)\n",
      "Loading standard/std-numbers.aiml... done (0.01 seconds)\n",
      "Loading standard/std-personality.aiml... done (0.12 seconds)\n",
      "Loading standard/std-pickup.aiml... done (0.00 seconds)\n",
      "Loading standard/std-politics.aiml... done (0.01 seconds)\n",
      "Loading standard/std-profile.aiml... done (0.05 seconds)\n",
      "Loading standard/std-religion.aiml... done (0.02 seconds)\n",
      "Loading standard/std-robot.aiml... done (0.10 seconds)\n",
      "Loading standard/std-sales.aiml... done (0.00 seconds)\n",
      "Loading standard/std-sextalk.aiml... done (0.01 seconds)\n",
      "Loading standard/std-sports.aiml... done (0.02 seconds)\n",
      "Loading standard/std-srai.aiml... done (0.67 seconds)\n",
      "Loading standard/std-suffixes.aiml... done (0.02 seconds)\n",
      "Loading standard/std-that.aiml... done (0.04 seconds)\n",
      "Loading standard/std-turing.aiml... done (0.02 seconds)\n",
      "Loading standard/std-yesno.aiml... done (0.02 seconds)\n",
      "Enter your message >> love you\n",
      "Thanks I like you a lot too .\n",
      "Enter your message >> 你好\n",
      "I only hear that type of response less than five percent of the time. Do you have any conditions I should know about?\n"
     ]
    },
    {
     "ename": "KeyboardInterrupt",
     "evalue": "",
     "output_type": "error",
     "traceback": [
      "\u001b[0;31m---------------------------------------------------------------------------\u001b[0m",
      "\u001b[0;31mKeyboardInterrupt\u001b[0m                         Traceback (most recent call last)",
      "\u001b[0;32m<ipython-input-1-3df4b5e0d9c8>\u001b[0m in \u001b[0;36m<module>\u001b[0;34m()\u001b[0m\n\u001b[1;32m     10\u001b[0m \u001b[0;31m# 按组合键 CTRL-C 停止循环\u001b[0m\u001b[0;34m\u001b[0m\u001b[0;34m\u001b[0m\u001b[0m\n\u001b[1;32m     11\u001b[0m \u001b[0;32mwhile\u001b[0m \u001b[0mTrue\u001b[0m\u001b[0;34m:\u001b[0m\u001b[0;34m\u001b[0m\u001b[0m\n\u001b[0;32m---> 12\u001b[0;31m     \u001b[0;32mprint\u001b[0m \u001b[0mkernel\u001b[0m\u001b[0;34m.\u001b[0m\u001b[0mrespond\u001b[0m\u001b[0;34m(\u001b[0m\u001b[0mraw_input\u001b[0m\u001b[0;34m(\u001b[0m\u001b[0;34m\"Enter your message >> \"\u001b[0m\u001b[0;34m)\u001b[0m\u001b[0;34m)\u001b[0m\u001b[0;34m\u001b[0m\u001b[0m\n\u001b[0m",
      "\u001b[0;32m/Users/bianbin/anaconda/lib/python2.7/site-packages/ipykernel/kernelbase.pyc\u001b[0m in \u001b[0;36mraw_input\u001b[0;34m(self, prompt)\u001b[0m\n\u001b[1;32m    687\u001b[0m             \u001b[0mself\u001b[0m\u001b[0;34m.\u001b[0m\u001b[0m_parent_ident\u001b[0m\u001b[0;34m,\u001b[0m\u001b[0;34m\u001b[0m\u001b[0m\n\u001b[1;32m    688\u001b[0m             \u001b[0mself\u001b[0m\u001b[0;34m.\u001b[0m\u001b[0m_parent_header\u001b[0m\u001b[0;34m,\u001b[0m\u001b[0;34m\u001b[0m\u001b[0m\n\u001b[0;32m--> 689\u001b[0;31m             \u001b[0mpassword\u001b[0m\u001b[0;34m=\u001b[0m\u001b[0mFalse\u001b[0m\u001b[0;34m,\u001b[0m\u001b[0;34m\u001b[0m\u001b[0m\n\u001b[0m\u001b[1;32m    690\u001b[0m         )\n\u001b[1;32m    691\u001b[0m \u001b[0;34m\u001b[0m\u001b[0m\n",
      "\u001b[0;32m/Users/bianbin/anaconda/lib/python2.7/site-packages/ipykernel/kernelbase.pyc\u001b[0m in \u001b[0;36m_input_request\u001b[0;34m(self, prompt, ident, parent, password)\u001b[0m\n\u001b[1;32m    717\u001b[0m             \u001b[0;32mexcept\u001b[0m \u001b[0mKeyboardInterrupt\u001b[0m\u001b[0;34m:\u001b[0m\u001b[0;34m\u001b[0m\u001b[0m\n\u001b[1;32m    718\u001b[0m                 \u001b[0;31m# re-raise KeyboardInterrupt, to truncate traceback\u001b[0m\u001b[0;34m\u001b[0m\u001b[0;34m\u001b[0m\u001b[0m\n\u001b[0;32m--> 719\u001b[0;31m                 \u001b[0;32mraise\u001b[0m \u001b[0mKeyboardInterrupt\u001b[0m\u001b[0;34m\u001b[0m\u001b[0m\n\u001b[0m\u001b[1;32m    720\u001b[0m             \u001b[0;32melse\u001b[0m\u001b[0;34m:\u001b[0m\u001b[0;34m\u001b[0m\u001b[0m\n\u001b[1;32m    721\u001b[0m                 \u001b[0;32mbreak\u001b[0m\u001b[0;34m\u001b[0m\u001b[0m\n",
      "\u001b[0;31mKeyboardInterrupt\u001b[0m: "
     ]
    }
   ],
   "source": [
    "# -*- coding=utf-8 -*-\n",
    "\n",
    "import aiml\n",
    "\n",
    "# 创建Kernel()和 AIML 学习文件\n",
    "kernel = aiml.Kernel()\n",
    "kernel.learn(\"std-startup.xml\")\n",
    "kernel.respond(\"load aiml b\")\n",
    "\n",
    "# 按组合键 CTRL-C 停止循环\n",
    "while True:\n",
    "    print kernel.respond(raw_input(\"Enter your message >> \"))"
   ]
  },
  {
   "cell_type": "code",
   "execution_count": null,
   "metadata": {
    "collapsed": true
   },
   "outputs": [],
   "source": []
  }
 ],
 "metadata": {
  "anaconda-cloud": {},
  "kernelspec": {
   "display_name": "Python [Root]",
   "language": "python",
   "name": "Python [Root]"
  },
  "language_info": {
   "codemirror_mode": {
    "name": "ipython",
    "version": 2
   },
   "file_extension": ".py",
   "mimetype": "text/x-python",
   "name": "python",
   "nbconvert_exporter": "python",
   "pygments_lexer": "ipython2",
   "version": "2.7.11"
  }
 },
 "nbformat": 4,
 "nbformat_minor": 0
}
